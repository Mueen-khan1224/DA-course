{
 "cells": [
  {
   "cell_type": "markdown",
   "id": "9b2d1d20-d8ad-41c6-a3c5-b4a97be44e02",
   "metadata": {},
   "source": [
    "*Assignment no 3*"
   ]
  },
  {
   "cell_type": "raw",
   "id": "66e93faa-7854-45c8-a9fa-14922d94f0a2",
   "metadata": {},
   "source": [
    "Q1:Write program to check a person’s eligibility for a loan based on age, credit score, and income. This time, the eligibility criteria will be:\n",
    "\n",
    "The person must be 18 years or older. The person must have a credit score of 650 or higher. The person must have an annual income of at least 30000 dollars If the person has a credit score of 700 or higher, they may still be eligible with an income of 25000 dollars or more."
   ]
  },
  {
   "cell_type": "code",
   "execution_count": null,
   "id": "84a67a26-fc0c-42fb-b9b9-f07f6afc8b6b",
   "metadata": {},
   "outputs": [],
   "source": [
    "age = int(input(\"Enter your age: \"))\n",
    "\n",
    "credit_score = int(input(\"Enter your credit score: \"))\n",
    "\n",
    "income = int(input(\"Enter your income in dollars: \"))\n",
    "if age >= 18:\n",
    "    if credit_score >= 650 and income >= 30000:\n",
    "        print(\"You are eligible for the loan.\")\n",
    "    elif credit_score >= 700 and income >= 25000:\n",
    "        print(\"You are eligible for the loan.\")\n",
    "    else:\n",
    "        print(\"You are not eligible for the loan.\")\n",
    "else:\n",
    "    print(\"You must be 18 or older to apply for a loan.\")\n"
   ]
  },
  {
   "cell_type": "raw",
   "id": "2d05cade-8b01-4e88-a1c6-24dfded45594",
   "metadata": {},
   "source": [
    "Q2. Write a Python program that checks if a person is an adult (age ≥ 18).\n",
    "\n",
    "Take the age as input.\n",
    "If the person is underage (age < 18), show message: \"You are underage\" and don't ask for experience.\n",
    "If the person is an adult, take years of experience as input and print:\n",
    "\"You have a lot of experience.\" (10+ years)\n",
    "\"You have moderate experience.\" (5-9 years)\n",
    "\"You are relatively new.\" (2-4 years)\n",
    "\"You are just starting out.\" (less than 2 years)"
   ]
  },
  {
   "cell_type": "code",
   "execution_count": null,
   "id": "214b60c8-0c8a-45c5-87d9-f8cece8f5112",
   "metadata": {},
   "outputs": [],
   "source": [
    "age = int(input(\"Enter your age: \"))\n",
    "\n",
    "if age < 18:\n",
    "    print(\"You are underage.\")\n",
    "else:\n",
    "    print(\"You are an adult.\")\n"
   ]
  },
  {
   "cell_type": "raw",
   "id": "b7956b11-9c0d-4a6b-a16b-e7d4a6f6bce5",
   "metadata": {},
   "source": [
    "Q3. Write a program to explore below variables\n",
    "a)\tPrint their memory address (to check if python assigns same address of different variables having same element)\n",
    "b)\tFind memory size and append them in a list, use this list to find data type having least memory size\n",
    "c)\tPrint final name of data type which has lowest memory\n",
    "Result will help a programmer to decide which variable is storing less memory and variable locations\n"
   ]
  },
  {
   "cell_type": "markdown",
   "id": "877783a0-978e-4475-9d8c-47e51a9a336c",
   "metadata": {},
   "source": [
    "number = 10\n",
    "decimal = 10.5\n",
    "text = \"Hello\"\n",
    "my_list = [1, 2, 3]\n",
    "my_tuple = (4, 5, 6)\n",
    "print(\"Memory address of number:\", id(number))\n",
    "print(\"Memory address of decimal:\", id(decimal))\n",
    "print(\"Memory address of text:\", id(text))\n",
    "print(\"Memory address of list:\", id(my_list))\n",
    "print(\"Memory address of tuple:\", id(my_tuple))\n",
    "print(\"Size of number:\", number.__sizeof__())\n",
    "print(\"Size of decimal:\", decimal.__sizeof__())\n",
    "print(\"Size of text:\", text.__sizeof__())\n",
    "print(\"Size of list:\", my_list.__sizeof__())\n",
    "print(\"Size of tuple:\", my_tuple.__sizeof__())\n"
   ]
  },
  {
   "cell_type": "raw",
   "id": "cc7ddc68-0895-4491-894c-90bc1e6bc161",
   "metadata": {},
   "source": [
    "Q4. Write a Python program that asks the user to enter an email address. The program should check if the email contains the characters @ and \".\" (ignoring case). If either character is present, print \"Email format is valid.\" Otherwise, print \"Invalid email format.\""
   ]
  },
  {
   "cell_type": "code",
   "execution_count": null,
   "id": "746f82ea-0d48-496b-b93b-929d2d94a9a7",
   "metadata": {},
   "outputs": [],
   "source": [
    "email = input(\"Enter your email address: \")\n",
    "\n",
    "if \"@\" in email and \".\" in email:\n",
    "    print(\"Email format is valid.\")\n",
    "else:\n",
    "    print(\"Email format is invalid.\")\n"
   ]
  },
  {
   "cell_type": "raw",
   "id": "6096ab32-42bb-4df2-9ebd-caddfdd6392b",
   "metadata": {},
   "source": [
    "Q5. Write a python program to know data type of each element stored in a tuple, append the data types in a list. Show final output in a list as data types of tuple elements\n",
    "x = (11,22.333,'apple',[1,2,3],('a','b'))"
   ]
  },
  {
   "cell_type": "code",
   "execution_count": null,
   "id": "d18c1ad1-a3c7-4cf4-ae6c-2186f2dbfdf0",
   "metadata": {},
   "outputs": [],
   "source": [
    "my_tuple = (11, 22.333, 'apple', [1, 2, 3], ('a', 'b'))\n",
    "for item in my_tuple:\n",
    "    print(f\"The data type of {item} is {type(item)}.\")\n"
   ]
  },
  {
   "cell_type": "raw",
   "id": "b55f504e-a597-4661-9a58-9849b899d76b",
   "metadata": {},
   "source": [
    "Q6. Write a Python program that:\n",
    "Checks if a given username exists in a list of active users.\n",
    "Verifies if the user is the admin using identity operators.\n",
    "Hints:\n",
    "Use a list of tuples where each tuple contains a username and role\n",
    "[(\"alice\", \"admin\"),\n",
    "(\"bob\", \"user\"),\n",
    "(\"charlie\", \"moderator\")]\n",
    "Use the in operator to check if the username exists in the list.\n",
    "Use the is operator to check if the user is the admin (admin is a specific reference, e.g., (\"alice\", \"admin\"))."
   ]
  },
  {
   "cell_type": "code",
   "execution_count": null,
   "id": "7bc8c64b-1d16-4982-ad26-b488aac3283b",
   "metadata": {},
   "outputs": [],
   "source": [
    "users = [(\"alice\", \"admin\"), (\"bob\", \"user\"), (\"charlie\", \"moderator\")]\n",
    "\n",
    "username = input(\"Enter a username: \")\n",
    "found = False\n",
    "for user in users:\n",
    "    if user[0] == username:\n",
    "        found = True\n",
    "        print(f\"{username} exists.\")\n",
    "        if user[1] == \"admin\":\n",
    "            print(f\"{username} is an admin.\")\n",
    "        break\n",
    "\n",
    "if not found:\n",
    "    print(f\"{username} does not exist.\")\n"
   ]
  },
  {
   "cell_type": "raw",
   "id": "d8782d52-e388-4dd3-9476-985cdff5e276",
   "metadata": {},
   "source": [
    "Q7. person1 has same family as of person2, write a program to print relation between person1 and person2, if their data is ['father name','mother name','district','family number'] same (Print relation 'Siblings') also check person1 data with person3 which is cousin of person1 (Print relation 'Cousin')\n",
    "Hint:\n",
    "Use identity operator"
   ]
  },
  {
   "cell_type": "code",
   "execution_count": null,
   "id": "1015a309-f1c2-4ed4-a0ef-78d33903a0d8",
   "metadata": {},
   "outputs": [],
   "source": [
    "person1 = ['John', 'Jane', 'NY', '1234']\n",
    "person2 = ['John', 'Jane', 'NY', '1234']\n",
    "person3 = ['David', 'Mary', 'CA', '5678']\n",
    "\n",
    "if person1 == person2:\n",
    "    print(\"Person1 and Person2 are siblings.\")\n",
    "elif person1[3] != person3[3]:\n",
    "    print(\"Person1 and Person3 are cousins.\")\n"
   ]
  },
  {
   "cell_type": "raw",
   "id": "1c4de10e-a1ef-481c-83be-27b311ce8688",
   "metadata": {},
   "source": [
    "Q8. Write a Python program to store and display a book's title, author, year of publication, and price using a tuple.\n",
    "Instructions:\n",
    "Create a tuple to store the book details.\n",
    "Ask the user for the book's title, author, year, and price.\n",
    "Display the stored book information."
   ]
  },
  {
   "cell_type": "code",
   "execution_count": null,
   "id": "6981df0a-f7c1-4e5d-84a2-0e35d3c7df9c",
   "metadata": {},
   "outputs": [],
   "source": [
    "title = input(\"Enter the book title: \")\n",
    "author = input(\"Enter the author name: \")\n",
    "year = int(input(\"Enter the year of publication: \"))\n",
    "price = float(input(\"Enter the price of the book: \"))\n",
    "\n",
    "book = (title, author, year, price)\n",
    "print(\"Book Details:\")\n",
    "print(f\"Title: {book[0]}\")\n",
    "print(f\"Author: {book[1]}\")\n",
    "print(f\"Year: {book[2]}\")\n",
    "print(f\"Price: ${book[3]}\")\n"
   ]
  },
  {
   "cell_type": "raw",
   "id": "696074ce-ae6a-470a-baf6-9920372d179c",
   "metadata": {},
   "source": [
    "Q9. Write a program to check if a user’s chosen subject is available in the list of offered subjects.\n",
    "Instructions:\n",
    "Given a list of subjects, ask the user to input a subject.\n",
    "Display whether the subject is available or not."
   ]
  },
  {
   "cell_type": "code",
   "execution_count": null,
   "id": "e9f055e5-dff9-4120-b5ea-7d15628bbc4a",
   "metadata": {},
   "outputs": [],
   "source": [
    "subjects = [\"Math\", \"Physics\", \"Chemistry\", \"Biology\"]\n",
    "subject = input(\"Enter the subject you are looking for: \")\n",
    "if subject in subjects:\n",
    "    print(f\"{subject} is available.\")\n",
    "else:\n",
    "    print(f\"{subject} is not available.\")\n"
   ]
  },
  {
   "cell_type": "raw",
   "id": "d513e391-fa5b-417f-aff0-d85820ec7987",
   "metadata": {},
   "source": [
    "Q10. Write a Python program that performs the following tasks using tuple methods\n",
    "Create a tuple with multiple integer values, including duplicates.\n",
    "Prompt the user to input a number and find the index of its first occurrence in the tuple.\n",
    "Ask the user for another number and count how many times it appears in the tuple.\n",
    "Display appropriate messages based on the results"
   ]
  },
  {
   "cell_type": "code",
   "execution_count": null,
   "id": "0068119e-50e4-43cf-8fc5-43231d925624",
   "metadata": {},
   "outputs": [],
   "source": [
    "numbers = (1, 2, 3, 2, 5, 2)\n",
    "num1 = int(input(\"Enter a number to find its first occurrence: \"))\n",
    "num2 = int(input(\"Enter a number to count its occurrences: \"))\n",
    "if num1 in numbers:\n",
    "    print(f\"The first occurrence of {num1} is at index {numbers.index(num1)}.\")\n",
    "else:\n",
    "    print(f\"{num1} is not in the tuple.\")\n",
    "print(f\"{num2} appears {numbers.count(num2)} times in the tuple.\")\n"
   ]
  },
  {
   "cell_type": "code",
   "execution_count": null,
   "id": "2cdfba0a-3044-44d0-bb4a-0e954fe335fb",
   "metadata": {},
   "outputs": [],
   "source": []
  },
  {
   "cell_type": "code",
   "execution_count": null,
   "id": "b21e9911-4d87-4faa-948d-36a89819e582",
   "metadata": {},
   "outputs": [],
   "source": []
  },
  {
   "cell_type": "code",
   "execution_count": null,
   "id": "a0453e02-b5fe-4fe5-9c34-69fdcb347b0e",
   "metadata": {},
   "outputs": [],
   "source": []
  },
  {
   "cell_type": "code",
   "execution_count": null,
   "id": "65423891-e058-468e-8d9e-456fce17011c",
   "metadata": {},
   "outputs": [],
   "source": []
  }
 ],
 "metadata": {
  "kernelspec": {
   "display_name": "Python 3 (ipykernel)",
   "language": "python",
   "name": "python3"
  },
  "language_info": {
   "codemirror_mode": {
    "name": "ipython",
    "version": 3
   },
   "file_extension": ".py",
   "mimetype": "text/x-python",
   "name": "python",
   "nbconvert_exporter": "python",
   "pygments_lexer": "ipython3",
   "version": "3.12.7"
  }
 },
 "nbformat": 4,
 "nbformat_minor": 5
}
