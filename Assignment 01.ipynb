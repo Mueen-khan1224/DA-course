{
 "cells": [
  {
   "cell_type": "markdown",
   "id": "9ecc0993-b52b-4377-9e86-27749a7e48f9",
   "metadata": {},
   "source": [
    "# *Assignment 01*"
   ]
  },
  {
   "cell_type": "code",
   "execution_count": 1,
   "id": "14e1c69a-e085-420d-91ae-2552fb4bb092",
   "metadata": {},
   "outputs": [],
   "source": [
    "salaries = ['20k','40k','50k','60k','35k','89k','40k']"
   ]
  },
  {
   "cell_type": "code",
   "execution_count": 9,
   "id": "f31c0c1b-715d-4a52-b1a5-e9e6275909a0",
   "metadata": {},
   "outputs": [
    {
     "data": {
      "text/plain": [
       "7"
      ]
     },
     "execution_count": 9,
     "metadata": {},
     "output_type": "execute_result"
    }
   ],
   "source": [
    "# 1. What is the length of the salaries list.\n",
    "len(salaries)"
   ]
  },
  {
   "cell_type": "code",
   "execution_count": 11,
   "id": "dd93aca2-c896-420e-b05c-4f16ce76d337",
   "metadata": {},
   "outputs": [
    {
     "data": {
      "text/plain": [
       "'50k'"
      ]
     },
     "execution_count": 11,
     "metadata": {},
     "output_type": "execute_result"
    }
   ],
   "source": [
    "# 2. Retrieve the third salary in the list by using index.\n",
    "salaries[2]"
   ]
  },
  {
   "cell_type": "code",
   "execution_count": 13,
   "id": "53d23489-827c-4074-83a8-0cec42193925",
   "metadata": {},
   "outputs": [
    {
     "data": {
      "text/plain": [
       "'40k'"
      ]
     },
     "execution_count": 13,
     "metadata": {},
     "output_type": "execute_result"
    }
   ],
   "source": [
    "# 3. Extract the last salary from the list by using a negative index.\n",
    "salaries[-1]"
   ]
  },
  {
   "cell_type": "code",
   "execution_count": 15,
   "id": "3c10a66a-bc00-4d21-ac46-4ea6ae9af6dc",
   "metadata": {},
   "outputs": [
    {
     "data": {
      "text/plain": [
       "['50k', '60k', '35k']"
      ]
     },
     "execution_count": 15,
     "metadata": {},
     "output_type": "execute_result"
    }
   ],
   "source": [
    "# 4. Slice the salaries list to get only the middle three salaries.\n",
    "salaries[2:5]"
   ]
  },
  {
   "cell_type": "code",
   "execution_count": 17,
   "id": "bc1af4b8-f789-492c-b119-b113ac1361b5",
   "metadata": {},
   "outputs": [
    {
     "name": "stdout",
     "output_type": "stream",
     "text": [
      "['20k', '40k', '50k', '60k', '35k', '89k', '40k', '100k']\n"
     ]
    }
   ],
   "source": [
    "# 5. Add a new salary to the list, '100k' by using append() method.\n",
    "salaries.append('100k')\n",
    "print(salaries)"
   ]
  },
  {
   "cell_type": "code",
   "execution_count": 19,
   "id": "97286d1e-291b-42a1-84d4-dd798e65ded7",
   "metadata": {},
   "outputs": [
    {
     "data": {
      "text/plain": [
       "['20k', '40k', '50k', '60k', '35k', '89k', '40k', '100k', '120k']"
      ]
     },
     "execution_count": 19,
     "metadata": {},
     "output_type": "execute_result"
    }
   ],
   "source": [
    "# 5. Add a new salary to the list, '120k' without method.\n",
    "salaries + ['120k']"
   ]
  },
  {
   "cell_type": "code",
   "execution_count": 21,
   "id": "a7bb3209-9cd2-4448-93a2-875a5c1413d7",
   "metadata": {},
   "outputs": [
    {
     "data": {
      "text/plain": [
       "['20k', '40k', '55k', '60k', '35k', '89k', '40k', '100k']"
      ]
     },
     "execution_count": 21,
     "metadata": {},
     "output_type": "execute_result"
    }
   ],
   "source": [
    "# 6. Replace the third salary in the list with '55k' and print the updated list.\n",
    "salaries[2] = '55k'\n",
    "salaries"
   ]
  },
  {
   "cell_type": "code",
   "execution_count": 23,
   "id": "573ec76a-6141-471e-8f1e-90e1964b7cd5",
   "metadata": {},
   "outputs": [
    {
     "data": {
      "text/plain": [
       "2"
      ]
     },
     "execution_count": 23,
     "metadata": {},
     "output_type": "execute_result"
    }
   ],
   "source": [
    "# 7. Count how many times '40k' appears in the list.\n",
    "salaries.count('40k')"
   ]
  },
  {
   "cell_type": "code",
   "execution_count": 25,
   "id": "29b34743-ef99-410d-a485-0d1f1638e7d5",
   "metadata": {},
   "outputs": [
    {
     "name": "stdout",
     "output_type": "stream",
     "text": [
      "['20k', '70k', '55k', '60k', '35k', '89k', '40k', '100k']\n"
     ]
    }
   ],
   "source": [
    "# 8. Insert a new salary at the second position.\n",
    "salaries[1] = '70k'\n",
    "print(salaries)"
   ]
  },
  {
   "cell_type": "code",
   "execution_count": 27,
   "id": "376ef1d6-4782-4738-a3ff-f326527aafd0",
   "metadata": {},
   "outputs": [
    {
     "name": "stdout",
     "output_type": "stream",
     "text": [
      "['100k', '40k', '89k', '35k', '60k', '55k', '70k', '20k']\n"
     ]
    }
   ],
   "source": [
    "# 9. Reverse the order of the salaries list with method.\n",
    "salaries.reverse()\n",
    "print(salaries)"
   ]
  },
  {
   "cell_type": "code",
   "execution_count": 29,
   "id": "c5d6ffaf-3c45-4e52-9440-c73b6c93e98d",
   "metadata": {},
   "outputs": [
    {
     "name": "stdout",
     "output_type": "stream",
     "text": [
      "Reversed list: ['20k', '70k', '55k', '60k', '35k', '89k', '40k', '100k']\n"
     ]
    }
   ],
   "source": [
    "# 10. Reverse the order of the salaries list without method\n",
    "reversed_salaries = salaries[::-1]\n",
    "print(\"Reversed list:\", reversed_salaries)"
   ]
  },
  {
   "cell_type": "code",
   "execution_count": null,
   "id": "9b341b37-1aaa-4362-a42c-fa353ba98cb1",
   "metadata": {},
   "outputs": [],
   "source": []
  }
 ],
 "metadata": {
  "kernelspec": {
   "display_name": "Python 3 (ipykernel)",
   "language": "python",
   "name": "python3"
  },
  "language_info": {
   "codemirror_mode": {
    "name": "ipython",
    "version": 3
   },
   "file_extension": ".py",
   "mimetype": "text/x-python",
   "name": "python",
   "nbconvert_exporter": "python",
   "pygments_lexer": "ipython3",
   "version": "3.12.7"
  }
 },
 "nbformat": 4,
 "nbformat_minor": 5
}
