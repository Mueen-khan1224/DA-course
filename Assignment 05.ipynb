{
 "cells": [
  {
   "cell_type": "raw",
   "id": "39675d5f-b989-40e4-a3c8-fc07c51ae993",
   "metadata": {
    "jp-MarkdownHeadingCollapsed": true
   },
   "source": [
    "1.\tWrite a Python function called add_numbers that takes two numbers as arguments and returns their sum. Then, test the function by calling it with two numbers of your choice."
   ]
  },
  {
   "cell_type": "code",
   "execution_count": 70,
   "id": "9bfc4d20-a6bd-43f1-ac84-1ff2f94f3afb",
   "metadata": {},
   "outputs": [
    {
     "name": "stdout",
     "output_type": "stream",
     "text": [
      "15\n"
     ]
    }
   ],
   "source": [
    "def add_numbers(num1, num2):\n",
    "    return num1 + num2\n",
    "\n",
    "print(add_numbers(5, 10))\n"
   ]
  },
  {
   "cell_type": "raw",
   "id": "1b761a67-eaaf-40df-8961-c15d46f73a96",
   "metadata": {},
   "source": [
    "2. Write a Python function count_vowels that accepts a string and returns the number of vowels (a, e, i, o, u) in that string.\n",
    "•\tExample: ‘Orange’\n",
    "•\tOutput: 3 vowels\n"
   ]
  },
  {
   "cell_type": "code",
   "execution_count": 72,
   "id": "67ce6b66-66a5-4473-86dd-4b8750ae33ea",
   "metadata": {},
   "outputs": [
    {
     "name": "stdout",
     "output_type": "stream",
     "text": [
      "3\n"
     ]
    }
   ],
   "source": [
    "def count_vowels(string):\n",
    "    vowels = 'aeiouAEIOU'\n",
    "    return sum(1 for char in string if char in vowels)\n",
    "\n",
    "print(count_vowels(\"Orange\"))"
   ]
  },
  {
   "cell_type": "raw",
   "id": "d3c68eb2-b748-44ae-ba90-5a70e96f7dd3",
   "metadata": {},
   "source": [
    "3. Create a Python function called currency_converter() that takes two arguments:\n",
    "•\tamount: The amount of money to be converted (in USD).\n",
    "•\texchange_rate (default is 280): The conversion rate from USD to another currency (e.g., PKR). You can assume the default rate is 1 USD = 280 PKR.\n",
    "The function should return a message showing how much the given amount is worth in the target currency (PKR).\n"
   ]
  },
  {
   "cell_type": "code",
   "execution_count": 74,
   "id": "7aa6dbee-2e24-45e0-a406-804ee909f3d3",
   "metadata": {},
   "outputs": [
    {
     "name": "stdout",
     "output_type": "stream",
     "text": [
      "50 USD is equal to 14000 PKR\n",
      "50 USD is equal to 15000 PKR\n"
     ]
    }
   ],
   "source": [
    "def currency_converter(amount, exchange_rate=280):\n",
    "    return f\"{amount} USD is equal to {amount * exchange_rate} PKR\"\n",
    "\n",
    "print(currency_converter(50))\n",
    "print(currency_converter(50, 300))"
   ]
  },
  {
   "cell_type": "raw",
   "id": "c5578f86-8c22-4589-8c3f-a1a0371f2d51",
   "metadata": {},
   "source": [
    "4. Write a Python function display_student_info that accepts the following details about a student:\n",
    "•\tname (Keyword argument): The name of the student.\n",
    "•\tage (Keyword argument): The age of the student.\n",
    "•\tgrade (Keyword argument): The grade the student is in.\n",
    "•\tschool (Keyword argument): The name of the school the student attends.\n"
   ]
  },
  {
   "cell_type": "code",
   "execution_count": 76,
   "id": "ccc6102d-d1d8-4213-84a3-79d0617e0670",
   "metadata": {},
   "outputs": [
    {
     "name": "stdout",
     "output_type": "stream",
     "text": [
      "Name: Ali\n",
      "Age: 15\n",
      "Grade: 10th\n",
      "School: City High School\n"
     ]
    }
   ],
   "source": [
    "def display_student_info(name, age, grade, school):\n",
    "    print(f\"Name: {name}\")\n",
    "    print(f\"Age: {age}\")\n",
    "    print(f\"Grade: {grade}\")\n",
    "    print(f\"School: {school}\")\n",
    "\n",
    "display_student_info(name=\"Ali\", age=15, grade=\"10th\", school=\"City High School\")"
   ]
  },
  {
   "cell_type": "raw",
   "id": "6f0cab9c-5d87-4192-9682-ed8ce97377d3",
   "metadata": {},
   "source": [
    "5. Write a Python function calculate_price that accepts two positional arguments:\n",
    "•\tprice: The price of a single item.\n",
    "•\tquantity: The number of items bought.\n",
    "•\tThe function should return the total price by multiplying price and quantity."
   ]
  },
  {
   "cell_type": "code",
   "execution_count": 78,
   "id": "3e00047b-0ca2-4dec-827f-50241ec78cfa",
   "metadata": {},
   "outputs": [
    {
     "name": "stdout",
     "output_type": "stream",
     "text": [
      "1500\n"
     ]
    }
   ],
   "source": [
    "def calculate_price(price, quantity):\n",
    "    return price * quantity\n",
    "\n",
    "print(calculate_price(500, 3))"
   ]
  },
  {
   "cell_type": "raw",
   "id": "6738c280-6c10-46b6-b201-63cf2c8ae326",
   "metadata": {},
   "source": [
    "6. Write a Python function display_prices that takes a product name and an arbitrary number of keyword arguments representing product prices.\n",
    "The function should display each product and its price.\n",
    "•\tProduct: Laptop\n",
    "•\tAmazon: $800\n",
    "•\teBay: $750\n",
    "•\tWalmart: $780"
   ]
  },
  {
   "cell_type": "code",
   "execution_count": 80,
   "id": "e15cfd00-9ffc-4e3a-8740-e9362bed0334",
   "metadata": {},
   "outputs": [
    {
     "name": "stdout",
     "output_type": "stream",
     "text": [
      "Product: Laptop\n",
      "Amazon: $800\n",
      "eBay: $750\n",
      "Walmart: $780\n"
     ]
    }
   ],
   "source": [
    "def display_prices(product, **prices):\n",
    "    print(f\"Product: {product}\")\n",
    "    for store, price in prices.items():\n",
    "        print(f\"{store}: ${price}\")\n",
    "\n",
    "display_prices(\"Laptop\", Amazon=800, eBay=750, Walmart=780)"
   ]
  },
  {
   "cell_type": "raw",
   "id": "6155549d-f750-4ee3-bc9c-75a82088b448",
   "metadata": {},
   "source": [
    "7.\tWrite a Python function find_max that takes any number of numerical arguments and returns the maximum number."
   ]
  },
  {
   "cell_type": "code",
   "execution_count": 82,
   "id": "73fb6693-f96a-489f-b9f8-2349b680390b",
   "metadata": {},
   "outputs": [
    {
     "name": "stdout",
     "output_type": "stream",
     "text": [
      "100\n"
     ]
    }
   ],
   "source": [
    "def find_max(*numbers):\n",
    "    return max(numbers)\n",
    "\n",
    "print(find_max(10, 25, 5, 100, 60))"
   ]
  },
  {
   "cell_type": "raw",
   "id": "e7d38b91-b278-4409-8060-71cb219022d3",
   "metadata": {},
   "source": [
    "8.\tWrite a Python function display_info that takes:\n",
    "•\tPositional arguments for the name and age of a person.\n",
    "•\tKeyword arguments for other personal details like address, phone number, and email."
   ]
  },
  {
   "cell_type": "code",
   "execution_count": 84,
   "id": "6604b545-5937-4200-a5b6-fd88bfc62bd6",
   "metadata": {},
   "outputs": [
    {
     "name": "stdout",
     "output_type": "stream",
     "text": [
      "Name: Alice\n",
      "Age: 30\n",
      "Other Details:\n",
      "address: 123 Main St\n",
      "phone: 123-456-7890\n",
      "email: alice@example.com\n"
     ]
    }
   ],
   "source": [
    "def display_info(name, age, **other_details):\n",
    "    print(f\"Name: {name}\")\n",
    "    print(f\"Age: {age}\")\n",
    "    print(\"Other Details:\")\n",
    "    for key, value in other_details.items():\n",
    "        print(f\"{key}: {value}\")\n",
    "\n",
    "display_info(\"Alice\", 30, address=\"123 Main St\", phone=\"123-456-7890\", email=\"alice@example.com\")"
   ]
  },
  {
   "cell_type": "raw",
   "id": "9c2b40f6-3e4d-4de2-94f3-a6d101feb29b",
   "metadata": {},
   "source": [
    "9.\tWrite a Python function calculate_rectangle that accepts the length and width of a rectangle as arguments. Inside this function, create two nested functions:\n",
    "•\tcalculate_area: This function should calculate the area of the rectangle.\n",
    "•\tcalculate_perimeter: This function should calculate the perimeter of the rectangle.\n",
    "•\tThe main function should return both the area and the perimeter of the rectangle."
   ]
  },
  {
   "cell_type": "code",
   "execution_count": 86,
   "id": "6d127288-ca50-43a3-84a7-7a2862a64261",
   "metadata": {},
   "outputs": [
    {
     "name": "stdout",
     "output_type": "stream",
     "text": [
      "(15, 16)\n"
     ]
    }
   ],
   "source": [
    "def calculate_rectangle(length, width):\n",
    "    def calculate_area():\n",
    "        return length * width\n",
    "    \n",
    "    def calculate_perimeter():\n",
    "        return 2 * (length + width)\n",
    "    \n",
    "    return calculate_area(), calculate_perimeter()\n",
    "\n",
    "print(calculate_rectangle(5, 3))"
   ]
  },
  {
   "cell_type": "raw",
   "id": "2335f0cd-2277-4f03-b226-1cba27f126c6",
   "metadata": {},
   "source": [
    "10. products = [ {“name”: “Laptop”, “price”: 1200, “in_stock”: True, “discount”: 0.1}, {“name”: “Smartphone”, “price”: 800, “in_stock”: False, “discount”: 0.05}, {“name”: “Headphones”,\n",
    "“price”: 150, “in_stock”: True, “discount”: 0.2}, {“name”: “Smartwatch”, “price”: 300, “in_stock”: True, “discount”: 0}, {“name”: “Keyboard”, “price”: 100, “in_stock”: True, “discount”: 0.15}]\n",
    "•\tGet names of in-stock products:\n",
    "*Use list comprehension to generate a list of names for the products that are in stock.\n",
    "•\tCalculate final prices for in-stock products after discount:\n",
    "*For products that have a discount, calculate the final price by applying the discount.\n",
    "*For products with no discount, keep the original price.\n",
    "•\tGenerate a list of tuples with the product name and its final price.\n"
   ]
  },
  {
   "cell_type": "code",
   "execution_count": 88,
   "id": "81c0256e-09e8-48bc-bfcf-79797ac01b00",
   "metadata": {},
   "outputs": [
    {
     "name": "stdout",
     "output_type": "stream",
     "text": [
      "In-stock products: ['Laptop', 'Headphones']\n",
      "Discounted prices: [1080.0, 120.0]\n"
     ]
    }
   ],
   "source": [
    "products = [\n",
    "    {\"name\": \"Laptop\", \"price\": 1200, \"in_stock\": True, \"discount\": 0.1},\n",
    "    {\"name\": \"Phone\", \"price\": 800, \"in_stock\": False, \"discount\": 0.05},\n",
    "    {\"name\": \"Headphones\", \"price\": 150, \"in_stock\": True, \"discount\": 0.2},\n",
    "]\n",
    "\n",
    "in_stock_names = [p[\"name\"] for p in products if p[\"in_stock\"]]\n",
    "discounted_prices = [p[\"price\"] * (1 - p[\"discount\"]) for p in products if p[\"in_stock\"]]\n",
    "\n",
    "print(\"In-stock products:\", in_stock_names)\n",
    "print(\"Discounted prices:\", discounted_prices)\n"
   ]
  },
  {
   "cell_type": "code",
   "execution_count": null,
   "id": "e4a90722-9578-4413-adf4-f8f25cb449d3",
   "metadata": {},
   "outputs": [],
   "source": []
  },
  {
   "cell_type": "code",
   "execution_count": null,
   "id": "42832279-1582-4a1a-844c-9f33c8a03eba",
   "metadata": {},
   "outputs": [],
   "source": []
  },
  {
   "cell_type": "code",
   "execution_count": null,
   "id": "fd829b9c-d893-43b6-8fbc-62fb99a5ff95",
   "metadata": {},
   "outputs": [],
   "source": []
  },
  {
   "cell_type": "code",
   "execution_count": null,
   "id": "b11c3bae-c8a6-4aca-a391-f6e73abf153b",
   "metadata": {},
   "outputs": [],
   "source": []
  },
  {
   "cell_type": "code",
   "execution_count": null,
   "id": "c6a070ae-311b-48ee-9805-5c0eef81bb70",
   "metadata": {},
   "outputs": [],
   "source": []
  }
 ],
 "metadata": {
  "kernelspec": {
   "display_name": "Python 3 (ipykernel)",
   "language": "python",
   "name": "python3"
  },
  "language_info": {
   "codemirror_mode": {
    "name": "ipython",
    "version": 3
   },
   "file_extension": ".py",
   "mimetype": "text/x-python",
   "name": "python",
   "nbconvert_exporter": "python",
   "pygments_lexer": "ipython3",
   "version": "3.12.7"
  }
 },
 "nbformat": 4,
 "nbformat_minor": 5
}
