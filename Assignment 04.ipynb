{
 "cells": [
  {
   "cell_type": "markdown",
   "id": "12f5a15e-8bc2-40d6-b935-21426bc45438",
   "metadata": {},
   "source": [
    "# Assignment 04"
   ]
  },
  {
   "cell_type": "markdown",
   "id": "e777cfe3-5550-4764-b290-0d60047629b9",
   "metadata": {},
   "source": [
    "Q1. my_tuple = ( (1, 2, 3), [4, 5, 6], ('apple', 'banana', 'cherry'), [7, 8, 9] )\n",
    "•\tPrint all elements from my_tuple on a new line (using for loop)\n",
    "•\tCreate a new tuple by concatenating the first and last elements of my_tuple\n"
   ]
  },
  {
   "cell_type": "code",
   "execution_count": null,
   "id": "f0d65201-0cdb-453b-9247-fb44387f4031",
   "metadata": {},
   "outputs": [],
   "source": [
    "my_tuple = ((1, 2, 3), [4, 5, 6], ('apple', 'banana', 'cherry'), [7, 8, 9])\n",
    "\n",
    "for element in my_tuple:\n",
    "    print(element)\n",
    "new_tuple = my_tuple[0] + tuple(my_tuple[-1])\n",
    "print(\"New Tuple:\", new_tuple)\n"
   ]
  },
  {
   "cell_type": "code",
   "execution_count": null,
   "id": "a95c9b4d-ec71-4ce9-ab58-3621be30fe1a",
   "metadata": {},
   "outputs": [],
   "source": [
    "Q2. inventory = { \"The Great Gatsby\": {\"price\": 10.99, \"quantity\": 5}, \"Rich dad poor dad\": {\"price\":\n",
    "8.99, \"quantity\": 8}, \"Harry Potter\": {\"price\": 12.50, \"quantity\": 2}, }\n",
    "•\tAdd a new book in inventory using method and get all book titles using method\n",
    "•\tRemove a book if it's out of stock\n"
   ]
  },
  {
   "cell_type": "code",
   "execution_count": null,
   "id": "e4a8ea50-cf69-45d2-b64b-95f83d648d2d",
   "metadata": {},
   "outputs": [],
   "source": [
    "inventory = {\n",
    "    \"The Great Gatsby\": {\"price\": 10.99, \"quantity\": 5},\n",
    "    \"Rich dad poor dad\": {\"price\": 8.99, \"quantity\": 8},\n",
    "    \"Harry Potter\": {\"price\": 12.50, \"quantity\": 2},\n",
    "}\n",
    "inventory[\"1984\"] = {\"price\": 15.99, \"quantity\": 10}\n",
    "\n",
    "print(\"Book Titles:\", list(inventory.keys()))\n",
    "\n",
    "inventory = {book: details for book, details in inventory.items() if details[\"quantity\"] > 0}\n",
    "print(\"Updated Inventory:\", inventory)\n"
   ]
  },
  {
   "cell_type": "code",
   "execution_count": null,
   "id": "f77ec00f-42dd-4cae-ad04-c9dc4d96aaf1",
   "metadata": {},
   "outputs": [],
   "source": [
    "Q3. An ecommerce store stores information about its products in a nested dictionary. The outer dictionary uses product IDs as keys, and the inner dictionary stores product details like name, category, price, and stock quantity.\n",
    "products = { 101: {\"name\": \"Laptop\", \"category\": \"Electronics\", \"price\": 1200, \"stock\": 50}, 102:\n",
    "{\"name\": \"Shirt\", \"category\": \"Apparel\", \"price\": 25, \"stock\": 200}, 103: {\"name\": \"Coffee Maker\",\n",
    "\"category\": \"Home Appliances\", \"price\": 80, \"stock\": 30} }\n",
    "•\tIncrease the stock of the \"Shirt\" product (add 50 more units)\n",
    "•\tAdd a new product (e.g., \"Smartphone\")"
   ]
  },
  {
   "cell_type": "code",
   "execution_count": null,
   "id": "5309184e-3240-421d-a990-6873049be85d",
   "metadata": {},
   "outputs": [],
   "source": [
    "products = {\n",
    "    101: {\"name\": \"Laptop\", \"category\": \"Electronics\", \"price\": 1200, \"stock\": 50},\n",
    "    102: {\"name\": \"Shirt\", \"category\": \"Apparel\", \"price\": 25, \"stock\": 200},\n",
    "    103: {\"name\": \"Coffee Maker\", \"category\": \"Home Appliances\", \"price\": 80, \"stock\": 30},\n",
    "}\n",
    "products[102][\"stock\"] += 50\n",
    "products[104] = {\"name\": \"Smartphone\", \"category\": \"Electronics\", \"price\": 999, \"stock\": 100}\n",
    "\n",
    "print(\"Updated Products:\", products)\n"
   ]
  },
  {
   "cell_type": "code",
   "execution_count": null,
   "id": "240c116e-1b70-4743-8a7d-8e1aec418894",
   "metadata": {},
   "outputs": [],
   "source": [
    "Q4. You are given a list that contains some duplicate items. Remove the duplicates by converting the list to a set.\n",
    "shopping_list = [\"apple\", \"banana\", \"apple\", \"orange\", \"banana\", \"grape\"]"
   ]
  },
  {
   "cell_type": "code",
   "execution_count": null,
   "id": "8d8a477a-6d78-48d3-9cde-2cda178c86ec",
   "metadata": {},
   "outputs": [],
   "source": [
    "shopping_list = [\"apple\", \"banana\", \"apple\", \"orange\", \"banana\", \"grape\"]\n",
    "unique_items = set(shopping_list)\n",
    "print(\"Unique Items:\", unique_items)\n"
   ]
  },
  {
   "cell_type": "code",
   "execution_count": null,
   "id": "8da84c46-752e-4364-a047-010435769aff",
   "metadata": {},
   "outputs": [],
   "source": [
    "Q5. You are managing a list of students enrolled in two different courses.\n",
    "You need to perform various set operations to understand the student enrollment.\n",
    "Task: Create two sets: one for students in \"Course A\" and one for students in \"Course B\".\n",
    "Find the students who are in \"Course A\" but not in \"Course B\" (difference).\n",
    "Find students who are only in one of the two courses (symmetric difference).\n",
    "course_a = {\"John\", \"Alice\", \"Bob\", \"David\"} course_b = {\"Alice\", \"Eve\", \"Charlie\", \"David\"}\n",
    "•\tFind students who are in Course A but not in Course B (difference)\n",
    "•\tFind students who are only in one of the two courses (symmetric difference)\n"
   ]
  },
  {
   "cell_type": "code",
   "execution_count": null,
   "id": "73314e66-a708-4edc-bc4f-2a445ec3f3af",
   "metadata": {},
   "outputs": [],
   "source": [
    "course_a = {\"John\", \"Alice\", \"Bob\", \"David\"}\n",
    "course_b = {\"Alice\", \"Eve\", \"Charlie\", \"David\"}\n",
    "\n",
    "difference = course_a - course_b\n",
    "print(\"Students in Course A but not in Course B:\", difference)\n",
    "symmetric_difference = course_a ^ course_b\n",
    "print(\"Students only in one of the two courses:\", symmetric_difference)\n"
   ]
  },
  {
   "cell_type": "code",
   "execution_count": null,
   "id": "1da4ca13-16d5-485e-bf3c-bfe0c5905cd9",
   "metadata": {},
   "outputs": [],
   "source": [
    "Q6. Write a Python program that calculates the sum of all even numbers between 1 and 50 (inclusive) using a for loop."
   ]
  },
  {
   "cell_type": "code",
   "execution_count": null,
   "id": "24bd1c91-4653-44f2-b804-67fd398c6fe6",
   "metadata": {},
   "outputs": [],
   "source": [
    "sum_of_evens = 0\n",
    "\n",
    "for number in range(1, 51):\n",
    "    if number % 2 == 0:\n",
    "        sum_of_evens += number\n",
    "\n",
    "print(\"Sum of even numbers between 1 and 50:\", sum_of_evens)\n"
   ]
  },
  {
   "cell_type": "code",
   "execution_count": null,
   "id": "ad67696f-ed5c-49dc-8299-f1c4346813d0",
   "metadata": {},
   "outputs": [],
   "source": [
    "Q7. Write a Python program that prints the multiplication table for a given number (between 1 and 10) using a for loop."
   ]
  },
  {
   "cell_type": "code",
   "execution_count": null,
   "id": "97b4e945-07be-45ab-be18-39670f039815",
   "metadata": {},
   "outputs": [],
   "source": [
    "number = int(input(\"Enter a number between 1 and 10: \"))\n",
    "for i in range(1, 11):\n",
    "    print(f\"{number} x {i} = {number * i}\")\n"
   ]
  },
  {
   "cell_type": "code",
   "execution_count": null,
   "id": "c1f527a4-bb6a-41ad-a03d-03e32fb0df27",
   "metadata": {},
   "outputs": [],
   "source": [
    "Q8. Power of a Number Write a Python program that takes a number and prints the powers of the number (starting from 1 "
   ]
  },
  {
   "cell_type": "code",
   "execution_count": null,
   "id": "94c938fe-fba2-43ee-b297-1cef8f9bc2bf",
   "metadata": {},
   "outputs": [],
   "source": [
    "number = int(input(\"Enter a number: \"))\n",
    "power = 1\n",
    "while power <= 10:\n",
    "    print(f\"{number}^{power} = {number ** power}\")\n",
    "    power += 1\n"
   ]
  },
  {
   "cell_type": "code",
   "execution_count": null,
   "id": "eddb5b8e-60b0-406d-b89f-a1788eaa3a4b",
   "metadata": {},
   "outputs": [],
   "source": [
    "Q9. Problem Statement: Write a Python program that takes an integer input from the user and counts down from that number to 0.\n",
    "The program should display the current number at each step until it reaches 0, at which point it should print a message indicating\n",
    "the countdown is finished"
   ]
  },
  {
   "cell_type": "code",
   "execution_count": null,
   "id": "229bd2aa-fe31-4048-8918-495d05ca4671",
   "metadata": {},
   "outputs": [],
   "source": [
    "start = int(input(\"Enter a number to start the countdown: \"))\n",
    "while start >= 0:\n",
    "    print(start)\n",
    "    start -= 1\n",
    "\n",
    "print(\"Countdown finished!\")\n"
   ]
  },
  {
   "cell_type": "code",
   "execution_count": null,
   "id": "0a5a3c10-1276-40b5-9762-3e4d1d576eb2",
   "metadata": {},
   "outputs": [],
   "source": [
    "Q10. Write a Python program that takes an integer input n from the user and generates a right-angled triangle pattern of stars (*) with n rows.\n",
    "The first row should contain 1 star, the second row 2 stars, the third row 3 stars, and so on until the nth row."
   ]
  },
  {
   "cell_type": "code",
   "execution_count": null,
   "id": "78eaaac4-3e09-4091-9056-1f995abc3592",
   "metadata": {},
   "outputs": [],
   "source": [
    "n = int(input(\"Enter the number of rows for the triangle: \"))\n",
    "for i in range(1, n + 1):\n",
    "    print(\"* \" * i)\n"
   ]
  },
  {
   "cell_type": "code",
   "execution_count": null,
   "id": "bef8ece7-58ff-463d-b54a-6df7d471e2b5",
   "metadata": {},
   "outputs": [],
   "source": []
  }
 ],
 "metadata": {
  "kernelspec": {
   "display_name": "Python 3 (ipykernel)",
   "language": "python",
   "name": "python3"
  },
  "language_info": {
   "codemirror_mode": {
    "name": "ipython",
    "version": 3
   },
   "file_extension": ".py",
   "mimetype": "text/x-python",
   "name": "python",
   "nbconvert_exporter": "python",
   "pygments_lexer": "ipython3",
   "version": "3.12.7"
  }
 },
 "nbformat": 4,
 "nbformat_minor": 5
}
