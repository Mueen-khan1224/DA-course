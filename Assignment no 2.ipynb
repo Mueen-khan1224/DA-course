{
 "cells": [
  {
   "cell_type": "markdown",
   "id": "1394d9b1-8d29-457d-8689-57c6174742bd",
   "metadata": {},
   "source": [
    "# *Assignment no 2*"
   ]
  },
  {
   "cell_type": "raw",
   "id": "260b46bf-5191-494e-b911-2baa654e3da1",
   "metadata": {},
   "source": [
    "Question 1: Age Group Classification."
   ]
  },
  {
   "cell_type": "code",
   "execution_count": 2,
   "id": "631a7023-9b54-4bc9-a816-ee282d0f5c17",
   "metadata": {},
   "outputs": [
    {
     "name": "stdin",
     "output_type": "stream",
     "text": [
      "Enter the age:  33\n"
     ]
    },
    {
     "name": "stdout",
     "output_type": "stream",
     "text": [
      "Adult\n"
     ]
    }
   ],
   "source": [
    "age = int(input(\"Enter the age: \"))\n",
    "if 0 <= age <= 12:\n",
    "    print(\"Child\")\n",
    "elif 13 <= age <= 19:\n",
    "    print('Teenager')\n",
    "elif 20 <= age <= 64:\n",
    "    print(\"Adult\")\n",
    "elif age >= 65:\n",
    "    print(\"Senior\")\n",
    "else:\n",
    "    print(\"Not eligible\")"
   ]
  },
  {
   "cell_type": "raw",
   "id": "4ff3a9ce-0982-4124-8887-465b7fe95c87",
   "metadata": {},
   "source": [
    "Question 2: Checking for Eligibility for Discount.\n"
   ]
  },
  {
   "cell_type": "code",
   "execution_count": 3,
   "id": "ec443358-0689-43dd-b475-973f3056ba4a",
   "metadata": {},
   "outputs": [
    {
     "name": "stdin",
     "output_type": "stream",
     "text": [
      "Membership_status (member/regular):  member\n",
      "enter your amount:  43\n"
     ]
    },
    {
     "name": "stdout",
     "output_type": "stream",
     "text": [
      "Not eligible for discount\n"
     ]
    }
   ],
   "source": [
    "Membership_status = input(\"Membership_status (member/regular): \")\n",
    "amount = float(input(\"enter your amount: \"))\n",
    "\n",
    "if Membership_status == \"premium\" and amount >= 1000:\n",
    "    print(\"Eligible for discount\")\n",
    "elif Membership_status == \"regular\" and amount >= 2000:\n",
    "    print(\"Eligible for discount\")\n",
    "else:\n",
    "    print(\"Not eligible for discount\")"
   ]
  },
  {
   "cell_type": "raw",
   "id": "d8da7483-854e-4ebf-8d72-f70b1d0abe10",
   "metadata": {},
   "source": [
    "Question 3: Voting Eligibility Check."
   ]
  },
  {
   "cell_type": "code",
   "execution_count": 4,
   "id": "667816ce-7e91-4ea5-a9c9-08fee55a1c1a",
   "metadata": {},
   "outputs": [
    {
     "name": "stdin",
     "output_type": "stream",
     "text": [
      "Enter your age:  33\n",
      "Enter your citizenship status (citizen/non-citizen):  citizen\n"
     ]
    },
    {
     "name": "stdout",
     "output_type": "stream",
     "text": [
      "Eligible to vote\n"
     ]
    }
   ],
   "source": [
    "age = int(input(\"Enter your age: \"))\n",
    "citizenship_status = input(\"Enter your citizenship status (citizen/non-citizen): \")\n",
    "if age >= 18 and citizenship_status == \"citizen\":\n",
    "    print(\"Eligible to vote\")\n",
    "elif age >= 16 and citizenship_status == \"citizen\":\n",
    "    print(\"Eligible to vote (special region)\")\n",
    "else:\n",
    "    print(\"Not eligible to vote\")"
   ]
  },
  {
   "cell_type": "raw",
   "id": "4ce114f6-f4eb-4668-9806-e15f1a8f9682",
   "metadata": {},
   "source": [
    "Question 4: Employee Salary Bonus Eligibility."
   ]
  },
  {
   "cell_type": "code",
   "execution_count": 5,
   "id": "b6b01dcc-68f9-4e34-823e-27e78438aed2",
   "metadata": {},
   "outputs": [
    {
     "name": "stdin",
     "output_type": "stream",
     "text": [
      "If employee is eligible for salary bonous(Excellent/Good/Satisfactory):  good\n",
      "Enter the employee's years of service:  3\n"
     ]
    },
    {
     "name": "stdout",
     "output_type": "stream",
     "text": [
      "Not eligible for bonus\n"
     ]
    }
   ],
   "source": [
    "performance_rating = input(\"If employee is eligible for salary bonous(Excellent/Good/Satisfactory): \")\n",
    "years_of_service\n",
    "= int(input(\"Enter the employee's years of service: \"))\n",
    "if performance_rating == \"excellent\" and years_of_service >= 5:\n",
    "    print(\"Eligible for bonus\")\n",
    "elif performance_rating == \"good\" and years_of_service >= 10:\n",
    "    print(\"Eligible for bonus\")\n",
    "elif performance_rating == \"satisfactory\" and years_of_service >= 15:\n",
    "    print(\"Eligible for bonus\")\n",
    "else:\n",
    "    print(\"Not eligible for bonus\")"
   ]
  },
  {
   "cell_type": "raw",
   "id": "fd913d9f-a1b3-478f-bec1-b6c5209d4129",
   "metadata": {},
   "source": [
    "Question 5. Write a program that replaces spaces with underscores,\n",
    "counts how many underscores are there,\n",
    "and finds the position of the first underscore."
   ]
  },
  {
   "cell_type": "code",
   "execution_count": 6,
   "id": "3787092f-fd01-4f3f-8b3b-4591b1cb3732",
   "metadata": {},
   "outputs": [
    {
     "name": "stdout",
     "output_type": "stream",
     "text": [
      "Modified text: I'm_learning_Python_programming\n",
      "Number of underscores: 3\n",
      "Position of first underscore: 3\n"
     ]
    }
   ],
   "source": [
    "Hi = \"I'm learning Python programming\"\n",
    "\n",
    "modified_Hi = Hi.replace(\" \", \"_\")\n",
    "underscore_count = modified_Hi.count(\"_\")\n",
    "first_underscore_position = modified_Hi.find(\"_\")\n",
    "\n",
    "print(\"Modified text:\", modified_Hi)\n",
    "print(\"Number of underscores:\", underscore_count)\n",
    "print(\"Position of first underscore:\", first_underscore_position)"
   ]
  },
  {
   "cell_type": "raw",
   "id": "fd5c5c25-b09a-47c5-bb4d-281e3c409dfe",
   "metadata": {},
   "source": [
    "Question 6:\n",
    "Write a Python program that:\n",
    "●\tTakes a string as input.\n",
    "●\tPrints all characters of the string except the last 3 using slicing.\n",
    "●\tPrints every second character of the string using slicing.\n",
    "●\tPrints the string in reverse using slicing\n"
   ]
  },
  {
   "cell_type": "code",
   "execution_count": 7,
   "id": "24a1ab6a-1d91-46a4-bf9a-89e7ece3a589",
   "metadata": {},
   "outputs": [
    {
     "name": "stdin",
     "output_type": "stream",
     "text": [
      "Enter a string:  hhhhh\n"
     ]
    },
    {
     "name": "stdout",
     "output_type": "stream",
     "text": [
      "All characters except the last 3: hh\n",
      "Every second character: hhh\n",
      "String in reverse: hhhhh\n"
     ]
    }
   ],
   "source": [
    "User = input(\"Enter a string: \")\n",
    "\n",
    "print(\"All characters except the last 3:\", User[:-3])\n",
    "print(\"Every second character:\", User[::2])\n",
    "print(\"String in reverse:\", User[::-1])\n"
   ]
  },
  {
   "cell_type": "raw",
   "id": "220f0994-4ba3-4cc3-9f1d-d8349de39cb0",
   "metadata": {},
   "source": [
    "Question 7. Given a sentence, you need to reverse the order of the words in the sentence while preserving their original capitalization and spaces.\n",
    "Use text : \"Hello World, We are learning Python\"\n"
   ]
  },
  {
   "cell_type": "code",
   "execution_count": 8,
   "id": "27d16529-f5ec-4a1e-bf7c-82a126a6974c",
   "metadata": {},
   "outputs": [
    {
     "name": "stdout",
     "output_type": "stream",
     "text": [
      "Reversed sentence: Python learning are We World, Hello\n"
     ]
    }
   ],
   "source": [
    "sentence = \"Hello World, We are learning Python\"\n",
    "words = sentence.split()\n",
    "reversed_words = words[::-1]\n",
    "reversed_sentence = ' '.join(reversed_words)\n",
    "print(\"Reversed sentence:\", reversed_sentence)\n"
   ]
  },
  {
   "cell_type": "raw",
   "id": "f4d94516-3f6b-4759-bb25-118f7c2d40ec",
   "metadata": {},
   "source": [
    "Question 8. You have a product code that follows the format \"SKU-12345-XYZ\". You need to:\n",
    "Remove the \"SKU-\" and the \"-XYZ\" from the product code. Extract and return the number\n"
   ]
  },
  {
   "cell_type": "code",
   "execution_count": 9,
   "id": "20d3ef9f-30ab-4aae-b7d0-f62a1cbe72b3",
   "metadata": {},
   "outputs": [
    {
     "name": "stdout",
     "output_type": "stream",
     "text": [
      "Extracted number: 12345\n"
     ]
    }
   ],
   "source": [
    "product_code = \"SKU-12345-XYZ\"\n",
    "extracted_number = product_code[4:-4]\n",
    "print(\"Extracted number:\", extracted_number)\n"
   ]
  },
  {
   "cell_type": "raw",
   "id": "1b3743a8-1aef-4a83-98be-6c1b56364db4",
   "metadata": {},
   "source": [
    "Question 9. Write a Python program to check user password has following:"
   ]
  },
  {
   "cell_type": "code",
   "execution_count": 10,
   "id": "469f8e42-4f08-463e-bbb2-2e335c254b26",
   "metadata": {},
   "outputs": [
    {
     "name": "stdin",
     "output_type": "stream",
     "text": [
      "Enter your password:  dydiisdjfydf\n"
     ]
    },
    {
     "name": "stdout",
     "output_type": "stream",
     "text": [
      "Contains uppercase characters: False\n",
      "Contains lowercase characters: True\n",
      "Contains spaces: False\n",
      "Contains special characters: False\n"
     ]
    }
   ],
   "source": [
    "password = input(\"Enter your password: \")\n",
    "\n",
    "has_upper = any(char.isupper() for char in password)\n",
    "has_lower = any(char.islower() for char in password)\n",
    "has_space = ' ' in password\n",
    "has_special = any(not char.isalnum() and char != ' ' for char in password)\n",
    "print(\"Contains uppercase characters:\", has_upper)\n",
    "print(\"Contains lowercase characters:\", has_lower)\n",
    "print(\"Contains spaces:\", has_space)\n",
    "print(\"Contains special characters:\", has_special)\n"
   ]
  },
  {
   "cell_type": "raw",
   "id": "ce9ee4f2-6abe-40e5-9617-ddc0749e664e",
   "metadata": {},
   "source": [
    "Question 10: Find the Longest Word"
   ]
  },
  {
   "cell_type": "code",
   "execution_count": 11,
   "id": "7651bdc1-ab0f-49da-8638-2da5a1c09ed6",
   "metadata": {},
   "outputs": [
    {
     "name": "stdin",
     "output_type": "stream",
     "text": [
      "Enter a sentence:  hehhjddj jhend djj\n"
     ]
    },
    {
     "name": "stdout",
     "output_type": "stream",
     "text": [
      "The longest word is: hehhjddj\n"
     ]
    }
   ],
   "source": [
    "sentence = input(\"Enter a sentence: \")\n",
    "words = sentence.split()\n",
    "longest_word = max(words, key=len)\n",
    "\n",
    "print(\"The longest word is:\", longest_word)\n"
   ]
  },
  {
   "cell_type": "code",
   "execution_count": null,
   "id": "fb615a21-0360-4b91-9eab-f4c052649e0e",
   "metadata": {},
   "outputs": [],
   "source": []
  }
 ],
 "metadata": {
  "kernelspec": {
   "display_name": "Python 3 (ipykernel)",
   "language": "python",
   "name": "python3"
  },
  "language_info": {
   "codemirror_mode": {
    "name": "ipython",
    "version": 3
   },
   "file_extension": ".py",
   "mimetype": "text/x-python",
   "name": "python",
   "nbconvert_exporter": "python",
   "pygments_lexer": "ipython3",
   "version": "3.12.7"
  }
 },
 "nbformat": 4,
 "nbformat_minor": 5
}
